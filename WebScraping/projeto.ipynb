{
 "cells": [
  {
   "cell_type": "code",
   "execution_count": 1,
   "metadata": {},
   "outputs": [
    {
     "ename": "ModuleNotFoundError",
     "evalue": "No module named 'pandas'",
     "output_type": "error",
     "traceback": [
      "\u001b[0;31m---------------------------------------------------------------------------\u001b[0m",
      "\u001b[0;31mModuleNotFoundError\u001b[0m                       Traceback (most recent call last)",
      "Cell \u001b[0;32mIn[1], line 1\u001b[0m\n\u001b[0;32m----> 1\u001b[0m \u001b[38;5;28;01mimport\u001b[39;00m \u001b[38;5;21;01mpandas\u001b[39;00m \u001b[38;5;28;01mas\u001b[39;00m \u001b[38;5;21;01mpd\u001b[39;00m\n\u001b[1;32m      2\u001b[0m \u001b[38;5;28;01mfrom\u001b[39;00m \u001b[38;5;21;01mbs4\u001b[39;00m \u001b[38;5;28;01mimport\u001b[39;00m BeautifulSoup\n\u001b[1;32m      3\u001b[0m \u001b[38;5;28;01mfrom\u001b[39;00m \u001b[38;5;21;01mselenium\u001b[39;00m \u001b[38;5;28;01mimport\u001b[39;00m webdriver\n",
      "\u001b[0;31mModuleNotFoundError\u001b[0m: No module named 'pandas'"
     ]
    }
   ],
   "source": [
    "import pandas as pd\n",
    "from bs4 import BeautifulSoup\n",
    "from selenium import webdriver\n",
    "from selenium.webdriver.common.by import By\n",
    "\n",
    "url= \"https://pt.wikipedia.org/wiki/Wikip%C3%A9dia:P%C3%A1gina_principal\"\n",
    "\n",
    "tema = \"valor historico do dolar\"\n",
    "\n",
    "driver = webdriver.Chrome()\n",
    "\n",
    "#Fazer pesquisa\n",
    "driver.get(url)\n",
    "search_box = driver.find_element(By.NAME, \"search\")\n",
    "search_box.send_keys(tema)\n",
    "search_box.submit()\n",
    "\n",
    "#Tratar tipos de pesquisa e acessar paginas wiki\n",
    "if driver.find_elements(By.XPATH, '//*[@id=\"disambig\"]/table/tbody/tr/td[1]/span/a/img'):\n",
    "    print(\"pagina desambiguidade\")\n",
    "    driver.find_elements(By.XPATH, '//[@id=\"mw-content-text\"]/div[1]/ul/li[1]/a').click()\n",
    "elif driver.find_elements(By.XPATH,'//[@id=\"firstHeading\"]'):\n",
    "    if driver.find_elements(BY.XPATH, '//[@id=\"firstHeading\"]')[0].text == \"Resultado da pesquisa\":\n",
    "        print(\"pesquisa avançada\")\n",
    "        driver.find_element(Vy.XPATH, '//[id=\"mw-content´text\"]/div[3]/div[4]/ul/li[1]/table/tbody/tr/td[2]/div[1]/a').click()\n",
    "    else:\n",
    "        print(\"pagina wiki\")\n",
    "\n",
    "html = driver.page_source\n",
    "driver.quit()\n",
    "\n",
    "html_parsed = BeautifulSoup(html, \"html.parser\")\n",
    "\n",
    "tabelas = html_parsed.find_all(\"table\")\n",
    "\n",
    "for tabela in tabelas:\n",
    "    df = pd.read_html(str(tabela))[0]\n",
    "    print(df.head())"
   ]
  }
 ],
 "metadata": {
  "kernelspec": {
   "display_name": "Python 3",
   "language": "python",
   "name": "python3"
  },
  "language_info": {
   "codemirror_mode": {
    "name": "ipython",
    "version": 3
   },
   "file_extension": ".py",
   "mimetype": "text/x-python",
   "name": "python",
   "nbconvert_exporter": "python",
   "pygments_lexer": "ipython3",
   "version": "3.10.12"
  }
 },
 "nbformat": 4,
 "nbformat_minor": 2
}
